{
 "cells": [
  {
   "cell_type": "markdown",
   "metadata": {},
   "source": [
    "Data structures\n"
   ]
  },
  {
   "cell_type": "markdown",
   "metadata": {},
   "source": [
    "1. Write a Python program to find the largest element in an unsorted list without using the built-in `max()` function.\n"
   ]
  },
  {
   "cell_type": "code",
   "execution_count": 4,
   "metadata": {},
   "outputs": [
    {
     "name": "stdout",
     "output_type": "stream",
     "text": [
      "largest element: 200\n"
     ]
    }
   ],
   "source": [
    "l=[10,1,5,100,30,3,200]\n",
    "maxi=l[0]\n",
    "for i in l:\n",
    "    if maxi<i:\n",
    "        maxi=i       \n",
    "print(\"largest element:\",maxi)"
   ]
  },
  {
   "cell_type": "markdown",
   "metadata": {},
   "source": [
    "2.Implement a basic linked list in Python. Include methods to insert a node at the beginning and end of the list."
   ]
  },
  {
   "cell_type": "code",
   "execution_count": 6,
   "metadata": {},
   "outputs": [
    {
     "name": "stdout",
     "output_type": "stream",
     "text": [
      "0 1 2 3 "
     ]
    }
   ],
   "source": [
    "class node:\n",
    "    def __init__(self,data):\n",
    "        self.data=data\n",
    "        self.next=None\n",
    "        \n",
    "class link_list:\n",
    "    def __init__(self):\n",
    "        self.head=None\n",
    "        \n",
    "    def at_beg(self,new):\n",
    "        new=node(new)\n",
    "        if self.head is None:\n",
    "            self.head=new\n",
    "            return\n",
    "        new.next=self.head\n",
    "        self.head=new\n",
    "        \n",
    "    def at_end(self,n_n):\n",
    "        n_n=node(n_n)\n",
    "        if self.head is None:\n",
    "            self.head=n_n\n",
    "            return\n",
    "        temp=self.head\n",
    "        while temp.next:\n",
    "            temp=temp.next\n",
    "        temp.next=n_n\n",
    "            \n",
    "    def dis(self):\n",
    "        temp=self.head\n",
    "        while temp:\n",
    "            print(temp.data,end=\" \")\n",
    "            temp=temp.next\n",
    "            \n",
    "l=link_list()\n",
    "l.at_beg(1)\n",
    "l.at_end(2)\n",
    "l.at_end(3)\n",
    "l.at_beg(0)\n",
    "l.dis()\n",
    "            \n",
    "        "
   ]
  },
  {
   "cell_type": "markdown",
   "metadata": {},
   "source": [
    "3.Implement the bubble sort algorithm in Python. Write a program to sort a list of integers using this algorithm.\n"
   ]
  },
  {
   "cell_type": "code",
   "execution_count": 7,
   "metadata": {},
   "outputs": [
    {
     "name": "stdout",
     "output_type": "stream",
     "text": [
      "[2, 5, 10, 20, 55, 99]\n"
     ]
    }
   ],
   "source": [
    "def sort(l):\n",
    "    for i in range(len(l)):\n",
    "        for j in range(len(l)-1):\n",
    "            if l[j]>l[j+1]:\n",
    "                l[j],l[j+1] = l[j+1],l[j]\n",
    "    return l\n",
    "l=[20,99,10,55,5,2]\n",
    "print(sort(l))"
   ]
  },
  {
   "cell_type": "markdown",
   "metadata": {},
   "source": [
    "4.Write a Python program that reads a text file containing email addresses and extracts all unique email domains.\n"
   ]
  },
  {
   "cell_type": "code",
   "execution_count": 19,
   "metadata": {},
   "outputs": [
    {
     "name": "stdout",
     "output_type": "stream",
     "text": [
      "['dhinesh@gmail.com']\n",
      "['dhinesh@ac.in']\n",
      "['dhinesh@hb.on']\n",
      "['dhinesh@gmail.com']\n",
      "['dhinesh@gm.org']\n",
      "['bharathi@ac.in']\n",
      "['bharathi@hb.on']\n",
      "['bharathi@ac.in']\n",
      "['vijay@gm.org']\n",
      "['vijay@in.on']\n",
      "{'hb.on', 'in.on', 'ac.in', 'gm.org', 'gmail.com'}\n"
     ]
    }
   ],
   "source": [
    "import re\n",
    "file=open(\"email.txt\",\"r\")\n",
    "u_domain=set()\n",
    "for i in file:\n",
    "    b=re.findall(r\"\\w.+\",i)\n",
    "    print(b)\n",
    "    for j in b:\n",
    "        r=re.split(\"@\",j)[-1]\n",
    "        u_domain.add(r)\n",
    "    \n",
    "#for i in u_domain:\n",
    "print(u_domain)\n",
    "\n"
   ]
  },
  {
   "cell_type": "markdown",
   "metadata": {},
   "source": [
    "5.Write a Python function to calculate the nth Fibonacci number using recursion. Optimize it using memoization"
   ]
  },
  {
   "cell_type": "code",
   "execution_count": 21,
   "metadata": {},
   "outputs": [
    {
     "name": "stdout",
     "output_type": "stream",
     "text": [
      "55\n"
     ]
    }
   ],
   "source": [
    "def fib(n,d={}):\n",
    "    if n<=1:\n",
    "        return n\n",
    "    \n",
    "    if  n not in d:\n",
    "        d[n]=fib(n-1,d)+fib(n-2,d)\n",
    "    return d[n]\n",
    "    \n",
    "n=10\n",
    "print( fib(n))\n"
   ]
  },
  {
   "cell_type": "markdown",
   "metadata": {},
   "source": [
    "6. You have a list of numbers. Write a Python program in a Jupyter Notebook to find the longest sequence of numbers that go one after the other. This sequence doesn't have to be right next to each other in the list, but they must be in the same order."
   ]
  },
  {
   "cell_type": "code",
   "execution_count": 3,
   "metadata": {},
   "outputs": [
    {
     "name": "stdout",
     "output_type": "stream",
     "text": [
      "longest sequence: [4, 5, 6, 7, 8]\n"
     ]
    }
   ],
   "source": [
    "#l=[1, 3, 5, 4, 6, 9, 8, 7, 2]\n",
    "l=[1, 3, 5, 4, 2, 8, 7, 6, 9]\n",
    "#l=[1, 3, 4, 5, 2, 6, 7, 8, 9 ]\n",
    "#l=[9, 8, 7, 6, 1, 2, 4, 3, 5]\n",
    "#l=[7, 12, 3, 2, 5, 6, 7, 9, 8]\n",
    "s=set()\n",
    "d={}\n",
    "c=0\n",
    "for i in range(len(l)-1):\n",
    "    if  l[i]-1==l[i+1] or l[i]+1==l[i+1]:\n",
    "        s.add(l[i+1])\n",
    "        s.add(l[i])\n",
    "    \n",
    "a=list(s)      \n",
    "\n",
    "for i in range(len(a)-1):\n",
    "    if  a[i]+1==a[i+1]:  \n",
    "        if c  not in d:\n",
    "            d[c]=(a[i],a[i+1])\n",
    "        else:\n",
    "            d[c]+=(a[i],a[i+1])\n",
    "            d[c]=sorted(set(d[c]))\n",
    "    else:\n",
    "        c+=1\n",
    "#print(d)\n",
    "\n",
    "for x in d.keys():\n",
    "    maxi=len(d[0])\n",
    "    if len(d[x]) >  maxi:\n",
    "        maxi=len(d[x])\n",
    "    l_s=d[x]\n",
    "print(\"longest sequence:\",l_s)\n"
   ]
  }
 ],
 "metadata": {
  "kernelspec": {
   "display_name": "Python 3",
   "language": "python",
   "name": "python3"
  },
  "language_info": {
   "codemirror_mode": {
    "name": "ipython",
    "version": 3
   },
   "file_extension": ".py",
   "mimetype": "text/x-python",
   "name": "python",
   "nbconvert_exporter": "python",
   "pygments_lexer": "ipython3",
   "version": "3.12.0"
  }
 },
 "nbformat": 4,
 "nbformat_minor": 2
}
