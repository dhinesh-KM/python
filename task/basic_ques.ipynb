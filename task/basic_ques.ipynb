{
 "cells": [
  {
   "cell_type": "markdown",
   "metadata": {},
   "source": [
    " 1.Write a Python program that takes user input for their name and age, then prints a message welcoming the user and stating their age.\n"
   ]
  },
  {
   "cell_type": "code",
   "execution_count": 2,
   "metadata": {},
   "outputs": [
    {
     "name": "stdout",
     "output_type": "stream",
     "text": [
      "welcoming the bharathi and stating their  20\n"
     ]
    }
   ],
   "source": [
    "name=input(\"enter the name:\")\n",
    "age=int(input(\"enter the age:\"))\n",
    "print(\"welcoming the \"+name+\" and stating their \",age)"
   ]
  },
  {
   "cell_type": "markdown",
   "metadata": {},
   "source": [
    "2.Write a Python program to find the sum of all numbers in a list.\n"
   ]
  },
  {
   "cell_type": "code",
   "execution_count": 5,
   "metadata": {},
   "outputs": [
    {
     "name": "stdout",
     "output_type": "stream",
     "text": [
      "sum of all numbers in a list: 21\n"
     ]
    }
   ],
   "source": [
    "l=[1,2,3,4,5,6]\n",
    "sum=0\n",
    "for i in range(len(l)):\n",
    "    sum+=l[i]\n",
    "print(\"sum of all numbers in a list:\",sum)"
   ]
  },
  {
   "cell_type": "markdown",
   "metadata": {},
   "source": [
    "3. Write a Python function that takes a sentence as input and returns the number of vowels in it.\n"
   ]
  },
  {
   "cell_type": "code",
   "execution_count": 11,
   "metadata": {},
   "outputs": [
    {
     "name": "stdout",
     "output_type": "stream",
     "text": [
      "28\n"
     ]
    }
   ],
   "source": [
    "def dis(s,v):\n",
    "    count=0\n",
    "    for i in s:\n",
    "        if i in vowels:\n",
    "            count+=1\n",
    "    print(count)\n",
    "sentence=\"Write a Python functIon that takes a sentence as input And returns the number Of vowels in it .\"\n",
    "vowels=\"aeiouAEIOU\"\n",
    "dis(sentence,vowels)\n",
    "        "
   ]
  },
  {
   "cell_type": "markdown",
   "metadata": {},
   "source": [
    "4.Create a Python dictionary representing a book. Include attributes like title, author, and publication year. Write a function to print these details"
   ]
  },
  {
   "cell_type": "code",
   "execution_count": 5,
   "metadata": {},
   "outputs": [
    {
     "name": "stdout",
     "output_type": "stream",
     "text": [
      "Title : The king\n",
      "Author : Alex\n",
      "Year : 1972\n"
     ]
    }
   ],
   "source": [
    "def dis(book):\n",
    "    for i,j in book.items():\n",
    "        print(i,\":\", j)\n",
    "        \n",
    "book={\"Title\":\"The king\",\"Author\":\"Alex\"}\n",
    "book[\"Year\"]=1972\n",
    "dis(book)"
   ]
  },
  {
   "cell_type": "markdown",
   "metadata": {},
   "source": [
    "5.Write a Python function that checks if a given number is even or odd. Use this function to classify a list of numbers"
   ]
  },
  {
   "cell_type": "code",
   "execution_count": 12,
   "metadata": {},
   "outputs": [
    {
     "name": "stdout",
     "output_type": "stream",
     "text": [
      "12 is even\n",
      "2 is even\n",
      "32 is even\n",
      "40 is even\n",
      "54 is even\n"
     ]
    }
   ],
   "source": [
    "def o_e(l):\n",
    "    for i in l:\n",
    "        if i%2==0:\n",
    "            print(f\"{i} is even\")\n",
    "        else:\n",
    "            print(f\"{i} is odd\")\n",
    "l=[1,2,3,4,5]\n",
    "o_e(l)"
   ]
  },
  {
   "cell_type": "markdown",
   "metadata": {},
   "source": [
    "6.Create a text file containing a list of names. Write a Python program to read the file and print the names in alphabetical order."
   ]
  },
  {
   "cell_type": "code",
   "execution_count": 45,
   "metadata": {},
   "outputs": [
    {
     "name": "stdout",
     "output_type": "stream",
     "text": [
      "['Arun', 'Bharathi', 'Boomi', 'Dhinesh']\n"
     ]
    }
   ],
   "source": [
    "f=open(\"names.txt\",\"r\")\n",
    "l=[]\n",
    "for i in f:\n",
    "    l.append(i.removesuffix(\"\\n\"))\n",
    "    \n",
    "print(sorted(l))\n",
    "\n"
   ]
  },
  {
   "cell_type": "markdown",
   "metadata": {},
   "source": [
    "7.Write a Python program that takes two lists and returns a new list containing common elements between them."
   ]
  },
  {
   "cell_type": "code",
   "execution_count": 17,
   "metadata": {},
   "outputs": [
    {
     "name": "stdout",
     "output_type": "stream",
     "text": [
      "[2, 4]\n"
     ]
    }
   ],
   "source": [
    "l1=[1,2,4,5,7]\n",
    "l2=[3,4,6,11,9,2]\n",
    "s1=set(l1)\n",
    "s2=set(l2)\n",
    "n_l=list(s1.intersection(s2))\n",
    "print(n_l)"
   ]
  },
  {
   "cell_type": "markdown",
   "metadata": {},
   "source": [
    "8. Create a Python class representing a car. Include attributes like make, model, and year. Write methods to accelerate and brake the car.\n"
   ]
  },
  {
   "cell_type": "code",
   "execution_count": 19,
   "metadata": {},
   "outputs": [
    {
     "name": "stdout",
     "output_type": "stream",
     "text": [
      "Acceleration\n",
      "brake\n",
      "make: volvo model: volvov3 year: 2000\n"
     ]
    }
   ],
   "source": [
    "class car:\n",
    "    def __init__(self,make,model,year):\n",
    "        self.make=make\n",
    "        self.model=model\n",
    "        self.year=year\n",
    "    \n",
    "    def acc(self):\n",
    "        print(\"Acceleration\")\n",
    "        \n",
    "    def brake(self):\n",
    "        print(\"brake\")\n",
    "        \n",
    "    def print(self):\n",
    "        print(\"make:\",self.make,\"model:\",self.model,\"year:\", self.year)\n",
    "    \n",
    "c=car(\"volvo\",\"volvov3\",2000)\n",
    "c.acc()\n",
    "c.brake()\n",
    "c.print()"
   ]
  },
  {
   "cell_type": "markdown",
   "metadata": {},
   "source": [
    "9.Write a recursive function to calculate the factorial of a given number.\n"
   ]
  },
  {
   "cell_type": "code",
   "execution_count": 7,
   "metadata": {},
   "outputs": [
    {
     "name": "stdout",
     "output_type": "stream",
     "text": [
      "120\n"
     ]
    }
   ],
   "source": [
    "def fact(n):\n",
    "    if n>0:\n",
    "        return n*fact(n-1)\n",
    "    else:\n",
    "        return 1\n",
    "print(fact(5))\n",
    "    "
   ]
  },
  {
   "cell_type": "markdown",
   "metadata": {},
   "source": [
    "10.Write a Python program that asks the user for input and handles potential errors (e.g., invalid input or division by zero)."
   ]
  },
  {
   "cell_type": "code",
   "execution_count": 5,
   "metadata": {},
   "outputs": [
    {
     "name": "stdout",
     "output_type": "stream",
     "text": [
      "invalid input\n"
     ]
    }
   ],
   "source": [
    "try:\n",
    "    u_i=int(input(\"enter an element:\"))\n",
    "    c=(u_i+2)/u_i\n",
    "    print(c)\n",
    "except ArithmeticError as e:\n",
    "    print(\"An error occured:\",e)\n",
    "except:\n",
    "    print(\"invalid input\")"
   ]
  }
 ],
 "metadata": {
  "kernelspec": {
   "display_name": "Python 3",
   "language": "python",
   "name": "python3"
  },
  "language_info": {
   "codemirror_mode": {
    "name": "ipython",
    "version": 3
   },
   "file_extension": ".py",
   "mimetype": "text/x-python",
   "name": "python",
   "nbconvert_exporter": "python",
   "pygments_lexer": "ipython3",
   "version": "3.12.0"
  }
 },
 "nbformat": 4,
 "nbformat_minor": 2
}
